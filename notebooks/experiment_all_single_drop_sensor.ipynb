{
 "cells": [
  {
   "cell_type": "markdown",
   "metadata": {},
   "source": [
    "### Build testgen Python Package"
   ]
  },
  {
   "cell_type": "code",
   "execution_count": 24,
   "metadata": {},
   "outputs": [],
   "source": [
    "!pip -q install -e ../."
   ]
  },
  {
   "cell_type": "markdown",
   "metadata": {},
   "source": [
    "### Imports"
   ]
  },
  {
   "cell_type": "code",
   "execution_count": 25,
   "metadata": {},
   "outputs": [],
   "source": [
    "import pandas as pd\n",
    "import json\n",
    "import os\n",
    "from tqdm.notebook import tqdm\n",
    "from testgen.utils import *\n",
    "from pathlib import Path\n",
    "from datetime import datetime as dt\n",
    "from dotenv import load_dotenv"
   ]
  },
  {
   "cell_type": "markdown",
   "metadata": {},
   "source": [
    "### EDA"
   ]
  },
  {
   "cell_type": "code",
   "execution_count": 26,
   "metadata": {},
   "outputs": [
    {
     "data": {
      "text/plain": [
       "True"
      ]
     },
     "execution_count": 26,
     "metadata": {},
     "output_type": "execute_result"
    }
   ],
   "source": [
    "base_path = Path().cwd().parent\n",
    "load_dotenv()"
   ]
  },
  {
   "cell_type": "code",
   "execution_count": 27,
   "metadata": {},
   "outputs": [],
   "source": [
    "# read data and rename columns\n",
    "df = pd.read_excel(base_path / \"data/requirements.xlsx\")\n",
    "df_examples = pd.read_excel(base_path / \"data/examples.xlsx\")"
   ]
  },
  {
   "cell_type": "markdown",
   "metadata": {},
   "source": [
    "### Drop Sensor"
   ]
  },
  {
   "cell_type": "code",
   "execution_count": 28,
   "metadata": {},
   "outputs": [
    {
     "name": "stdout",
     "output_type": "stream",
     "text": [
      "Acceleration Pedal (Acc): Measures the amount of pressure applied to the accelerator pedal, indicating the driver's desired acceleration.\n",
      "Wheel Speed (WS): Measures the rotational speed of the vehicle's wheels, providing information on the vehicle's speed and potential wheel slippage.\n",
      "Yaw Rate (YR): Measures the rate of rotation around the vertical axis of the vehicle, indicating its turning behavior and stability.\n"
     ]
    }
   ],
   "source": [
    "from testgen.prompts import Sensors\n",
    "\n",
    "# Acc: Acceleration Pedal\n",
    "# WSA: Wheel Steering Angle\n",
    "# WS: Wheel Speed\n",
    "# YR: Yaw Rate\n",
    "# ST: Steering Torque\n",
    "target_sensor = [\"Wheel Steering Angle\", \"Steering Torque\"]\n",
    "\n",
    "Sensors = Sensors.split(\"\\n\")\n",
    "# drop all sensors in Sensors\n",
    "Sensors = \"\\n\".join(filter(lambda s: all([s.find(f\"{t} (\") == -1 for t in target_sensor]), Sensors))\n",
    "\n",
    "print(Sensors)"
   ]
  },
  {
   "cell_type": "code",
   "execution_count": 29,
   "metadata": {},
   "outputs": [],
   "source": [
    "# delete targeted sensors\n",
    "df = df.drop(columns=[c.replace(\" \", \"_\").lower() for c in target_sensor])\n",
    "df_examples = df_examples.drop(columns=[c.replace(\" \", \"_\").lower() for c in target_sensor])"
   ]
  },
  {
   "cell_type": "markdown",
   "metadata": {},
   "source": [
    "### Find Examples"
   ]
  },
  {
   "cell_type": "code",
   "execution_count": 30,
   "metadata": {},
   "outputs": [],
   "source": [
    "N_EXAMPLES = 1\n",
    "\n",
    "\n",
    "if N_EXAMPLES > 1:\n",
    "    indexes_to_drop, examples = get_examples_from_df(df_examples.drop(columns=[\"selected\"]), N_EXAMPLES)\n",
    "\n",
    "\n",
    "if N_EXAMPLES == 1: # pick pre selected example when N_EXAMPLES = 1\n",
    "    df_examples_n1 = df_examples[df_examples[\"selected\"] == 1].copy()\n",
    "    df_examples_n1.drop(columns=[\"selected\"], inplace=True)\n",
    "    indexes_to_drop, examples = get_examples_from_df(df_examples_n1, 1)"
   ]
  },
  {
   "cell_type": "code",
   "execution_count": 31,
   "metadata": {},
   "outputs": [],
   "source": [
    "Negative_N_EXAMPLES = 2\n",
    "\n",
    "if Negative_N_EXAMPLES > 0:\n",
    "    df_examples_t = df_examples.drop(columns=[\"selected\"])\n",
    "    negative_examples = df_examples_t[df_examples_t.iloc[:, 1:].sum(axis=1) == 0].sample(Negative_N_EXAMPLES)\n",
    "    negative_examples[\"vector\"] = negative_examples.iloc[:, 1:].apply(lambda x: \"[\" + \",\".join(map(str, x.to_list())) + \"]\", axis=1)\n",
    "\n",
    "\n",
    "    examples[\"negative\"] = negative_examples[[\"requirement\", \"vector\"]].values.tolist()"
   ]
  },
  {
   "cell_type": "code",
   "execution_count": 32,
   "metadata": {},
   "outputs": [],
   "source": [
    "# join all examples in a text format to add to prompt\n",
    "examples_txt = \"\"\n",
    "\n",
    "for e1 in examples.values():\n",
    "    for e2 in e1:\n",
    "        examples_txt += f\"Requirement: {e2[0]}\\n\"\n",
    "        examples_txt += f\"Vector: {e2[1]}\\n\"\n",
    "        examples_txt += f\"Target Sensor/s: {' and '.join(df.columns[1:][[True if x == 1 else False for x in map(int, e2[1][1:-1].split(','))]])}\\n\"\n",
    "        examples_txt += \"\\n\""
   ]
  },
  {
   "cell_type": "code",
   "execution_count": 33,
   "metadata": {},
   "outputs": [
    {
     "name": "stdout",
     "output_type": "stream",
     "text": [
      "Requirement: The steering system must provide consistent and predictable torque feedback to the driver under all driving conditions\n",
      "Vector: [0,0,0]\n",
      "Target Sensor/s: \n",
      "\n",
      "Requirement: The power steering system must adapt the torque levels in response to detected road surface conditions (e.g., ice, water, gravel)\n",
      "Vector: [0,0,0]\n",
      "Target Sensor/s: \n",
      "\n",
      "\n"
     ]
    }
   ],
   "source": [
    "print(\"\\n\".join(examples_txt.split(\"\\n\")[-9:]))"
   ]
  },
  {
   "cell_type": "markdown",
   "metadata": {},
   "source": [
    "# LLM"
   ]
  },
  {
   "cell_type": "code",
   "execution_count": 34,
   "metadata": {},
   "outputs": [],
   "source": [
    "from testgen.prompts import SystemPrompt\n",
    "from testgen.prompts import UserPrompt"
   ]
  },
  {
   "cell_type": "code",
   "execution_count": 35,
   "metadata": {},
   "outputs": [],
   "source": [
    "llm_models = {\n",
    "    \"azure\": [\"gpt-4o-mini\"],\n",
    "    \"groq\": [\n",
    "        \"llama-3.2-3b-preview\",\n",
    "        \"llama-3.2-90b-text-preview\",\n",
    "        \"mixtral-8x7b-32768\",\n",
    "    ],\n",
    "}\n",
    "\n",
    "endpoint_attrs = {\n",
    "    \"azure\": {\n",
    "        \"api_key\": os.getenv(\"AZURE_OPENAI_API_KEY\"),\n",
    "        \"api_version\": \"2024-08-01-preview\",\n",
    "        \"azure_endpoint\": os.getenv(\"AZURE_OPENAI_ENDPOINT\"),\n",
    "    },\n",
    "    \"groq\": {\n",
    "        \"api_key\": os.getenv(\"GROQ_API_KEY\"),\n",
    "    },\n",
    "}"
   ]
  },
  {
   "cell_type": "code",
   "execution_count": 36,
   "metadata": {},
   "outputs": [],
   "source": [
    "endpoint_name = \"azure\"\n",
    "model_name = llm_models[endpoint_name][0]\n",
    "\n",
    "client = llm_client(endpoint_name, **endpoint_attrs[endpoint_name])"
   ]
  },
  {
   "cell_type": "code",
   "execution_count": 37,
   "metadata": {},
   "outputs": [],
   "source": [
    "# t = client.chat.completions.create(\n",
    "#     model=model_name,\n",
    "#     messages=[{\"role\": \"user\", \"content\": \"Respond: Here\"}]\n",
    "# )\n",
    "# t.choices[0].message.content"
   ]
  },
  {
   "cell_type": "markdown",
   "metadata": {},
   "source": [
    "# Run for all Requirements"
   ]
  },
  {
   "cell_type": "code",
   "execution_count": 38,
   "metadata": {},
   "outputs": [
    {
     "data": {
      "application/vnd.jupyter.widget-view+json": {
       "model_id": "693bd3437c184db2b0ea02386a5be116",
       "version_major": 2,
       "version_minor": 0
      },
      "text/plain": [
       "0it [00:00, ?it/s]"
      ]
     },
     "metadata": {},
     "output_type": "display_data"
    }
   ],
   "source": [
    "results = []\n",
    "responses = []\n",
    "\n",
    "for instance in tqdm(df.iterrows()):\n",
    "    result, response = client_invoke(\n",
    "        client,\n",
    "        model_name,\n",
    "        SystemPrompt,\n",
    "        Sensors,\n",
    "        examples_txt,\n",
    "        UserPrompt,\n",
    "        instance,\n",
    "    )\n",
    "\n",
    "    results.append(result)\n",
    "    responses.append(response)"
   ]
  },
  {
   "cell_type": "code",
   "execution_count": 39,
   "metadata": {},
   "outputs": [],
   "source": [
    "accuracy = 0\n",
    "total_tokens = 0\n",
    "total_completion_tokens = 0\n",
    "total_time = 0\n",
    "\n",
    "for r in results:\n",
    "    accuracy += r[\"accuracy\"]\n",
    "    total_tokens += r[\"total_tokens\"]\n",
    "    total_completion_tokens += r[\"completion_tokens\"]\n",
    "    total_time += r['response_time']\n",
    "\n",
    "number_of_reqs = len(results)\n",
    "accuracy /= len(results)\n",
    "avg_time_per_req = round(total_time / len(results), 6)\n",
    "avg_token_per_req = total_tokens / len(results)\n",
    "avg_completion_token_per_req = total_completion_tokens / len(results)"
   ]
  },
  {
   "cell_type": "code",
   "execution_count": 40,
   "metadata": {},
   "outputs": [],
   "source": [
    "# save results\n",
    "time = dt.now()\n",
    "\n",
    "dropped_sensors = \"(\"+\"_\".join([''.join([x[0].upper() for x in s.split(' ')]) for s in target_sensor])+\")\"\n",
    "\n",
    "results_path = \"results/single_dropped_{model}_n-{examples}-neg-{negative}_acc-{accuracy}_{ds}_{time}.json\"\n",
    "results_path = results_path.format(\n",
    "    model=model_name,\n",
    "    examples=N_EXAMPLES,\n",
    "    negative=Negative_N_EXAMPLES,\n",
    "    ds=dropped_sensors,\n",
    "    time=time.strftime('%m.%d.%Y-%H:%M:%S'),\n",
    "    accuracy=round(accuracy, 3)\n",
    ")\n",
    "\n",
    "results_file = base_path / results_path\n",
    "results_file.parent.mkdir(exist_ok=True)\n",
    "results_file.touch()\n",
    "\n",
    "with results_file.open(\"w\") as f:\n",
    "    json.dump({\"accuracy\": accuracy,\n",
    "        \"number_of_reqs\": number_of_reqs,\n",
    "        \"total_tokens\": total_tokens,\n",
    "        \"total_completion_tokens\": total_completion_tokens,\n",
    "        \"avg_token_per_req\": avg_token_per_req,\n",
    "        \"avg_completion_token_per_req\": avg_completion_token_per_req,\n",
    "        \"avg_time_per_req\": avg_time_per_req,\n",
    "        \"examples\": examples,\n",
    "        \"responses\": results}, f, indent=4)"
   ]
  },
  {
   "cell_type": "code",
   "execution_count": null,
   "metadata": {},
   "outputs": [],
   "source": []
  },
  {
   "cell_type": "code",
   "execution_count": null,
   "metadata": {},
   "outputs": [],
   "source": []
  },
  {
   "cell_type": "code",
   "execution_count": null,
   "metadata": {},
   "outputs": [],
   "source": []
  }
 ],
 "metadata": {
  "kernelspec": {
   "display_name": "hil",
   "language": "python",
   "name": "python3"
  },
  "language_info": {
   "codemirror_mode": {
    "name": "ipython",
    "version": 3
   },
   "file_extension": ".py",
   "mimetype": "text/x-python",
   "name": "python",
   "nbconvert_exporter": "python",
   "pygments_lexer": "ipython3",
   "version": "3.9.0"
  }
 },
 "nbformat": 4,
 "nbformat_minor": 2
}
