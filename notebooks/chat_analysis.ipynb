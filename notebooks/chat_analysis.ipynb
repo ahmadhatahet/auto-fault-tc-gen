{
 "cells": [
  {
   "cell_type": "code",
   "execution_count": 1,
   "metadata": {},
   "outputs": [],
   "source": [
    "import pandas as pd\n",
    "import numpy as np\n",
    "import json\n",
    "from pathlib import Path\n",
    "import re"
   ]
  },
  {
   "cell_type": "code",
   "execution_count": 4,
   "metadata": {},
   "outputs": [],
   "source": [
    "filename = \"conv_gpt-35_multi-random-30_07.08.2024-10:49:47\"\n",
    "filename += \".json\"\n",
    "\n",
    "file_under_investigation = Path().cwd() / \"chats\" / filename\n",
    "with file_under_investigation.open(\"r\") as f:\n",
    "    data = json.load(f)"
   ]
  },
  {
   "cell_type": "code",
   "execution_count": 24,
   "metadata": {},
   "outputs": [],
   "source": [
    "# Regex pattern to match each requirement\n",
    "pattern_req = r\"Requirement \\d+: [^\\n]*\"\n",
    "pattern_vec = r\"[Vector ]?\\d+: [^\\n]*\"\n",
    "\n",
    "# Find all matches in the text\n",
    "requirements = re.findall(pattern_req, data[\"messages\"][-2][\"content\"])\n",
    "requirements = [r.split(\": \")[-1] for r in requirements]\n",
    "\n",
    "# Find all matches in the text\n",
    "vectors = re.findall(pattern_vec, data[\"messages\"][-1][\"content\"])\n",
    "vectors = [v.split(\": \")[-1] for v in vectors]"
   ]
  },
  {
   "cell_type": "code",
   "execution_count": 25,
   "metadata": {},
   "outputs": [
    {
     "data": {
      "text/plain": [
       "(30, 30, 30)"
      ]
     },
     "execution_count": 25,
     "metadata": {},
     "output_type": "execute_result"
    }
   ],
   "source": [
    "len(requirements), len(vectors), len(data[\"true_solution\"])"
   ]
  },
  {
   "cell_type": "code",
   "execution_count": 26,
   "metadata": {},
   "outputs": [],
   "source": [
    "assert len(requirements) == len(vectors)\n",
    "assert len(vectors) == len(data[\"true_solution\"])"
   ]
  },
  {
   "cell_type": "code",
   "execution_count": 27,
   "metadata": {},
   "outputs": [
    {
     "name": "stdout",
     "output_type": "stream",
     "text": [
      "Accuracy: 60.0 %\n"
     ]
    }
   ],
   "source": [
    "print(f\"Accuracy: {data['accuracy']*100:.1f} %\")"
   ]
  },
  {
   "cell_type": "code",
   "execution_count": 28,
   "metadata": {},
   "outputs": [
    {
     "name": "stdout",
     "output_type": "stream",
     "text": [
      "The vehicle's steering response must be consistent\tTrue\t[0,0,0,0,1]\t[0,0,0,0,1]\n",
      "The steering system must maintain optimal feedback\tFalse\t[0,1,0,0,0]\t[0,0,0,0,1]\n",
      "The steering and throttle systems must allow for p\tFalse\t[1,0,0,0,0]\t[1,1,0,0,0]\n",
      "The system must continuously monitor the accelerat\tTrue\t[1,0,0,0,0]\t[1,0,0,0,0]\n",
      "The steering system must provide tactile feedback \tTrue\t[0,1,0,0,0]\t[0,1,0,0,0]\n",
      "The vehicle control system must include electronic\tFalse\t[0,0,0,0,0]\t[1,0,0,0,0]\n",
      "The vehicle's control system must adjust braking a\tTrue\t[0,0,1,0,0]\t[0,0,1,0,0]\n",
      "The system must detect and report any failures or \tTrue\t[0,1,0,0,0]\t[0,1,0,0,0]\n",
      "Power steering systems, whether hydraulic or elect\tTrue\t[0,1,0,0,0]\t[0,1,0,0,0]\n",
      "Torque sensors in EPS systems must be calibrated t\tTrue\t[0,1,0,0,0]\t[0,1,0,0,0]\n",
      "The electric power steering system must have a red\tFalse\t[0,1,0,0,0]\t[0,0,0,0,1]\n",
      "In emergency maneuvers, the system must be capable\tFalse\t[0,1,0,0,0]\t[1,1,0,0,0]\n",
      "Upon detection of lift-off oversteer, the system s\tFalse\t[0,1,0,0,0]\t[1,1,0,0,0]\n",
      "The vehicle control systems must include adaptive \tTrue\t[1,1,0,0,0]\t[1,1,0,0,0]\n",
      "Continuous signal integrity checks must be conduct\tTrue\t[1,0,0,0,0]\t[1,0,0,0,0]\n",
      "The ABS and ESC systems must detect a wheel speed \tTrue\t[0,0,1,0,0]\t[0,0,1,0,0]\n",
      "The vehicle control system shall automatically dec\tFalse\t[0,0,1,0,0]\t[1,1,0,0,0]\n",
      "Should the primary control system fail, the accele\tTrue\t[1,0,0,0,0]\t[1,0,0,0,0]\n",
      "The IMU must have redundancy to ensure that failur\tFalse\t[0,0,0,0,0]\t[0,0,0,1,0]\n",
      "The electronic throttle control system must includ\tFalse\t[0,0,0,0,0]\t[1,0,0,0,0]\n",
      "The lane-keeping assist system must take into acco\tFalse\t[1,0,0,0,0]\t[1,1,0,0,0]\n",
      "The steering system should adapt sensitivity based\tTrue\t[0,1,0,0,0]\t[0,1,0,0,0]\n",
      "The system must rapidly process wheel speed inform\tTrue\t[0,0,1,0,0]\t[0,0,1,0,0]\n",
      "The system must accurately detect and transmit the\tTrue\t[1,0,0,0,0]\t[1,0,0,0,0]\n",
      "Power steering assistance must be limited to preve\tFalse\t[0,1,0,0,0]\t[0,0,0,0,1]\n",
      "The system must enable a manual override allowing \tFalse\t[0,1,0,0,0]\t[0,0,0,0,1]\n",
      "A system calibration verification process must be \tTrue\t[1,0,0,0,0]\t[1,0,0,0,0]\n",
      "The system must detect any Steering Angle Sensor m\tTrue\t[0,1,0,0,0]\t[0,1,0,0,0]\n",
      "Communication protocols for transmitting wheel spe\tTrue\t[0,0,1,0,0]\t[0,0,1,0,0]\n",
      "The vehicle's steering control system must accurat\tTrue\t[0,1,0,0,0]\t[0,1,0,0,0]\n"
     ]
    }
   ],
   "source": [
    "for r, v, g in zip(requirements, vectors, data[\"true_solution\"]):\n",
    "    print(r[:50], (v==g), v, g, sep=\"\\t\")"
   ]
  }
 ],
 "metadata": {
  "kernelspec": {
   "display_name": "hil",
   "language": "python",
   "name": "python3"
  },
  "language_info": {
   "codemirror_mode": {
    "name": "ipython",
    "version": 3
   },
   "file_extension": ".py",
   "mimetype": "text/x-python",
   "name": "python",
   "nbconvert_exporter": "python",
   "pygments_lexer": "ipython3",
   "version": "3.9.0"
  }
 },
 "nbformat": 4,
 "nbformat_minor": 2
}
