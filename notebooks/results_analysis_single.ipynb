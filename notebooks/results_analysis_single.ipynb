{
 "cells": [
  {
   "cell_type": "code",
   "execution_count": 1,
   "metadata": {},
   "outputs": [],
   "source": [
    "!pip -q install -e ../."
   ]
  },
  {
   "cell_type": "code",
   "execution_count": 3,
   "metadata": {},
   "outputs": [],
   "source": [
    "from pathlib import Path\n",
    "import pandas as pd\n",
    "import matplotlib.pyplot as plt\n",
    "from testgen.analysis_utils import *"
   ]
  },
  {
   "cell_type": "code",
   "execution_count": 4,
   "metadata": {},
   "outputs": [],
   "source": [
    "df = pd.read_excel(\"../data/requirements.xlsx\")\n",
    "df.columns = [''.join(word[0].capitalize() for word in col.split('_')) for col in df.columns]"
   ]
  },
  {
   "cell_type": "code",
   "execution_count": 5,
   "metadata": {},
   "outputs": [],
   "source": [
    "df_t = df.drop(columns=\"R\")\n",
    "\n",
    "new_cols = df[df_t.sum(axis=1) == 2].drop(columns=\"R\").drop_duplicates().astype(bool).apply(\n",
    "    lambda x: \"&\".join(df_t.columns[x]), axis=1\n",
    ").to_list()\n",
    "\n",
    "for n in new_cols:\n",
    "    index_t = df_t[df_t[n.split(\"&\")].sum(axis=1)==2].index\n",
    "    df.loc[index_t] = 0\n",
    "    df[n] = 0\n",
    "    df.loc[index_t, n] = 1"
   ]
  },
  {
   "cell_type": "code",
   "execution_count": 6,
   "metadata": {},
   "outputs": [
    {
     "data": {
      "image/png": "[encoded data removed]",
      "text/plain": [
       "<Figure size 640x480 with 1 Axes>"
      ]
     },
     "metadata": {},
     "output_type": "display_data"
    }
   ],
   "source": [
    "ax = df.drop(columns=\"R\").sum().plot.bar(\n",
    "    title=\"Number of Requirements per Sensor\",\n",
    "    color=\"teal\",    \n",
    ")\n",
    "\n",
    "_ = ax.bar_label(ax.containers[0])"
   ]
  },
  {
   "cell_type": "code",
   "execution_count": 7,
   "metadata": {},
   "outputs": [
    {
     "data": {
      "text/plain": [
       "array(['Acc', 'WSA', 'WS', 'YR', 'ST'], dtype='<U3')"
      ]
     },
     "execution_count": 7,
     "metadata": {},
     "output_type": "execute_result"
    }
   ],
   "source": [
    "labels = get_sensors_labels()\n",
    "labels"
   ]
  },
  {
   "cell_type": "code",
   "execution_count": 4,
   "metadata": {},
   "outputs": [],
   "source": [
    "# read results file\n",
    "base_path = Path().cwd()\n",
    "results_path = base_path.parent / \"results\"\n",
    "    \n",
    "results_single = get_best_results(results_path, \"single_gpt*.json\")\n",
    "results_bulk = get_best_results(results_path, \"bulk*.json\")"
   ]
  },
  {
   "cell_type": "code",
   "execution_count": 5,
   "metadata": {},
   "outputs": [],
   "source": [
    "def plot_summarize(c, summarize_):\n",
    "    ax = summarize_[\"accuracy\"].plot.bar(\n",
    "        title=\"Accuracy per Sensor\",\n",
    "        xlabel=\"\",\n",
    "    )\n",
    "\n",
    "    _ = ax.bar_label(ax.containers[0])"
   ]
  },
  {
   "cell_type": "code",
   "execution_count": 74,
   "metadata": {},
   "outputs": [],
   "source": [
    "def investigate_sensor_in_file(ts, file):\n",
    "    t_, _ = result_to_df(labels, file, results_path)\n",
    "    return t_[(t_[\"true_label\"] == ts) & (t_[\"accuracy\"] == False)][\"pred_label\"].value_counts()"
   ]
  },
  {
   "cell_type": "code",
   "execution_count": 75,
   "metadata": {},
   "outputs": [
    {
     "data": {
      "text/plain": [
       "pred_label\n",
       "WSA          3\n",
       "WS & ST      1\n",
       "Acc & WSA    1\n",
       "Name: count, dtype: int64"
      ]
     },
     "execution_count": 75,
     "metadata": {},
     "output_type": "execute_result"
    }
   ],
   "source": [
    "investigate_sensor_in_file(\"ST\", results_single[0])"
   ]
  },
  {
   "cell_type": "code",
   "execution_count": 6,
   "metadata": {},
   "outputs": [],
   "source": [
    "stats_single, summarize_single = analyze_multiple(labels, results_single, results_path)"
   ]
  },
  {
   "cell_type": "code",
   "execution_count": 7,
   "metadata": {},
   "outputs": [
    {
     "data": {
      "text/html": [
       "<div>\n",
       "<style scoped>\n",
       "    .dataframe tbody tr th:only-of-type {\n",
       "        vertical-align: middle;\n",
       "    }\n",
       "\n",
       "    .dataframe tbody tr th {\n",
       "        vertical-align: top;\n",
       "    }\n",
       "\n",
       "    .dataframe thead th {\n",
       "        text-align: right;\n",
       "    }\n",
       "</style>\n",
       "<table border=\"1\" class=\"dataframe\">\n",
       "  <thead>\n",
       "    <tr style=\"text-align: right;\">\n",
       "      <th></th>\n",
       "      <th>type</th>\n",
       "      <th>model_name</th>\n",
       "      <th>accuracy</th>\n",
       "      <th>number_of_reqs</th>\n",
       "      <th>total_tokens</th>\n",
       "      <th>total_completion_tokens</th>\n",
       "      <th>avg_token_per_req</th>\n",
       "      <th>avg_completion_token_per_req</th>\n",
       "      <th>avg_time_per_req</th>\n",
       "    </tr>\n",
       "    <tr>\n",
       "      <th>number_examples</th>\n",
       "      <th></th>\n",
       "      <th></th>\n",
       "      <th></th>\n",
       "      <th></th>\n",
       "      <th></th>\n",
       "      <th></th>\n",
       "      <th></th>\n",
       "      <th></th>\n",
       "      <th></th>\n",
       "    </tr>\n",
       "  </thead>\n",
       "  <tbody>\n",
       "    <tr>\n",
       "      <th>1</th>\n",
       "      <td>single</td>\n",
       "      <td>gpt-4o-mini</td>\n",
       "      <td>0.934307</td>\n",
       "      <td>137</td>\n",
       "      <td>108961</td>\n",
       "      <td>1781</td>\n",
       "      <td>795.335766</td>\n",
       "      <td>13.0</td>\n",
       "      <td>0.931720</td>\n",
       "    </tr>\n",
       "    <tr>\n",
       "      <th>3</th>\n",
       "      <td>single</td>\n",
       "      <td>gpt-4o-mini</td>\n",
       "      <td>0.905109</td>\n",
       "      <td>137</td>\n",
       "      <td>188421</td>\n",
       "      <td>1781</td>\n",
       "      <td>1375.335766</td>\n",
       "      <td>13.0</td>\n",
       "      <td>3.557572</td>\n",
       "    </tr>\n",
       "    <tr>\n",
       "      <th>5</th>\n",
       "      <td>single</td>\n",
       "      <td>gpt-4o-mini</td>\n",
       "      <td>0.905109</td>\n",
       "      <td>137</td>\n",
       "      <td>264593</td>\n",
       "      <td>1781</td>\n",
       "      <td>1931.335766</td>\n",
       "      <td>13.0</td>\n",
       "      <td>4.004780</td>\n",
       "    </tr>\n",
       "    <tr>\n",
       "      <th>8</th>\n",
       "      <td>single</td>\n",
       "      <td>gpt-4o-mini</td>\n",
       "      <td>0.905109</td>\n",
       "      <td>137</td>\n",
       "      <td>381043</td>\n",
       "      <td>1781</td>\n",
       "      <td>2781.335766</td>\n",
       "      <td>13.0</td>\n",
       "      <td>4.469258</td>\n",
       "    </tr>\n",
       "  </tbody>\n",
       "</table>\n",
       "</div>"
      ],
      "text/plain": [
       "                   type   model_name  accuracy  number_of_reqs  total_tokens  \\\n",
       "number_examples                                                                \n",
       "1                single  gpt-4o-mini  0.934307             137        108961   \n",
       "3                single  gpt-4o-mini  0.905109             137        188421   \n",
       "5                single  gpt-4o-mini  0.905109             137        264593   \n",
       "8                single  gpt-4o-mini  0.905109             137        381043   \n",
       "\n",
       "                 total_completion_tokens  avg_token_per_req  \\\n",
       "number_examples                                               \n",
       "1                                   1781         795.335766   \n",
       "3                                   1781        1375.335766   \n",
       "5                                   1781        1931.335766   \n",
       "8                                   1781        2781.335766   \n",
       "\n",
       "                 avg_completion_token_per_req  avg_time_per_req  \n",
       "number_examples                                                  \n",
       "1                                        13.0          0.931720  \n",
       "3                                        13.0          3.557572  \n",
       "5                                        13.0          4.004780  \n",
       "8                                        13.0          4.469258  "
      ]
     },
     "execution_count": 7,
     "metadata": {},
     "output_type": "execute_result"
    }
   ],
   "source": [
    "stats_single"
   ]
  },
  {
   "cell_type": "code",
   "execution_count": 63,
   "metadata": {},
   "outputs": [
    {
     "data": {
      "text/plain": [
       "<matplotlib.legend.Legend at 0x7efbf13d29d0>"
      ]
     },
     "execution_count": 63,
     "metadata": {},
     "output_type": "execute_result"
    },
    {
     "data": {
      "image/png": "[encoded data removed]",
      "text/plain": [
       "<Figure size 640x480 with 1 Axes>"
      ]
     },
     "metadata": {},
     "output_type": "display_data"
    }
   ],
   "source": [
    "metrics_n_single = summarize_single[summarize_single[\"sensors\"] == \"All\"].set_index(\"number_examples\").iloc[:, -4:]\n",
    "metrics_n_single.index = metrics_n_single.index.astype(\"str\")\n",
    "\n",
    "ax = metrics_n_single.plot.line(\n",
    "    yticks=[float(r/100) for r in range(80, 101, 5)],\n",
    "    linewidth=2,\n",
    "    xlabel=\"n-Shots\",\n",
    "    title=\"n-Shots Learning for all Sensors [Single]\",\n",
    ")\n",
    "\n",
    "ax.legend(loc='lower left')"
   ]
  },
  {
   "cell_type": "code",
   "execution_count": 49,
   "metadata": {},
   "outputs": [
    {
     "data": {
      "text/plain": [
       "<matplotlib.legend.Legend at 0x7efbf24a50a0>"
      ]
     },
     "execution_count": 49,
     "metadata": {},
     "output_type": "execute_result"
    },
    {
     "data": {
      "image/png": "[encoded data removed]",
      "text/plain": [
       "<Figure size 640x480 with 1 Axes>"
      ]
     },
     "metadata": {},
     "output_type": "display_data"
    }
   ],
   "source": [
    "metrics_n_sensor_single = summarize_single[(summarize_single[\"sensors\"] != \"All\") & (summarize_single[\"number_examples\"] == 1)].set_index([\"sensors\"]).iloc[:, -4:]\n",
    "\n",
    "ax = metrics_n_sensor_single.plot.bar(\n",
    "    linewidth=2,\n",
    "    xlabel=\"Sensors\",\n",
    "    title=\"Metrics per Sensor for One-Shot Learning [Single]\",\n",
    "    align='edge',\n",
    ")\n",
    "\n",
    "ax.legend(loc='lower right')"
   ]
  },
  {
   "cell_type": "code",
   "execution_count": 85,
   "metadata": {},
   "outputs": [
    {
     "data": {
      "text/html": [
       "<div>\n",
       "<style scoped>\n",
       "    .dataframe tbody tr th:only-of-type {\n",
       "        vertical-align: middle;\n",
       "    }\n",
       "\n",
       "    .dataframe tbody tr th {\n",
       "        vertical-align: top;\n",
       "    }\n",
       "\n",
       "    .dataframe thead th {\n",
       "        text-align: right;\n",
       "    }\n",
       "</style>\n",
       "<table border=\"1\" class=\"dataframe\">\n",
       "  <thead>\n",
       "    <tr style=\"text-align: right;\">\n",
       "      <th></th>\n",
       "      <th>accuracy</th>\n",
       "      <th>precision</th>\n",
       "      <th>recall</th>\n",
       "      <th>f1</th>\n",
       "    </tr>\n",
       "    <tr>\n",
       "      <th>sensors</th>\n",
       "      <th></th>\n",
       "      <th></th>\n",
       "      <th></th>\n",
       "      <th></th>\n",
       "    </tr>\n",
       "  </thead>\n",
       "  <tbody>\n",
       "    <tr>\n",
       "      <th>Acc</th>\n",
       "      <td>0.96</td>\n",
       "      <td>1.0</td>\n",
       "      <td>0.96</td>\n",
       "      <td>0.98</td>\n",
       "    </tr>\n",
       "    <tr>\n",
       "      <th>Acc &amp; WSA</th>\n",
       "      <td>1.00</td>\n",
       "      <td>1.0</td>\n",
       "      <td>1.00</td>\n",
       "      <td>1.00</td>\n",
       "    </tr>\n",
       "    <tr>\n",
       "      <th>ST</th>\n",
       "      <td>0.84</td>\n",
       "      <td>1.0</td>\n",
       "      <td>0.84</td>\n",
       "      <td>0.92</td>\n",
       "    </tr>\n",
       "    <tr>\n",
       "      <th>WS</th>\n",
       "      <td>1.00</td>\n",
       "      <td>1.0</td>\n",
       "      <td>1.00</td>\n",
       "      <td>1.00</td>\n",
       "    </tr>\n",
       "    <tr>\n",
       "      <th>WSA</th>\n",
       "      <td>0.92</td>\n",
       "      <td>1.0</td>\n",
       "      <td>0.92</td>\n",
       "      <td>0.96</td>\n",
       "    </tr>\n",
       "    <tr>\n",
       "      <th>YR</th>\n",
       "      <td>0.95</td>\n",
       "      <td>1.0</td>\n",
       "      <td>0.95</td>\n",
       "      <td>0.98</td>\n",
       "    </tr>\n",
       "  </tbody>\n",
       "</table>\n",
       "</div>"
      ],
      "text/plain": [
       "           accuracy  precision  recall    f1\n",
       "sensors                                     \n",
       "Acc            0.96        1.0    0.96  0.98\n",
       "Acc & WSA      1.00        1.0    1.00  1.00\n",
       "ST             0.84        1.0    0.84  0.92\n",
       "WS             1.00        1.0    1.00  1.00\n",
       "WSA            0.92        1.0    0.92  0.96\n",
       "YR             0.95        1.0    0.95  0.98"
      ]
     },
     "execution_count": 85,
     "metadata": {},
     "output_type": "execute_result"
    }
   ],
   "source": [
    "metrics_n_sensor_single"
   ]
  },
  {
   "cell_type": "code",
   "execution_count": 10,
   "metadata": {},
   "outputs": [],
   "source": [
    "stats_bulk, summarize_bulk = analyze_multiple(labels, results_bulk, results_path)"
   ]
  },
  {
   "cell_type": "code",
   "execution_count": 76,
   "metadata": {},
   "outputs": [
    {
     "data": {
      "text/html": [
       "<div>\n",
       "<style scoped>\n",
       "    .dataframe tbody tr th:only-of-type {\n",
       "        vertical-align: middle;\n",
       "    }\n",
       "\n",
       "    .dataframe tbody tr th {\n",
       "        vertical-align: top;\n",
       "    }\n",
       "\n",
       "    .dataframe thead th {\n",
       "        text-align: right;\n",
       "    }\n",
       "</style>\n",
       "<table border=\"1\" class=\"dataframe\">\n",
       "  <thead>\n",
       "    <tr style=\"text-align: right;\">\n",
       "      <th></th>\n",
       "      <th>type</th>\n",
       "      <th>model_name</th>\n",
       "      <th>number_examples</th>\n",
       "      <th>accuracy</th>\n",
       "      <th>number_of_reqs</th>\n",
       "      <th>total_tokens</th>\n",
       "      <th>total_completion_tokens</th>\n",
       "      <th>avg_token_per_req</th>\n",
       "      <th>avg_completion_token_per_req</th>\n",
       "      <th>avg_time_per_req</th>\n",
       "    </tr>\n",
       "    <tr>\n",
       "      <th>type_n</th>\n",
       "      <th></th>\n",
       "      <th></th>\n",
       "      <th></th>\n",
       "      <th></th>\n",
       "      <th></th>\n",
       "      <th></th>\n",
       "      <th></th>\n",
       "      <th></th>\n",
       "      <th></th>\n",
       "      <th></th>\n",
       "    </tr>\n",
       "  </thead>\n",
       "  <tbody>\n",
       "    <tr>\n",
       "      <th>2</th>\n",
       "      <td>bulk</td>\n",
       "      <td>gpt-4o-mini</td>\n",
       "      <td>1</td>\n",
       "      <td>0.889706</td>\n",
       "      <td>68</td>\n",
       "      <td>59347</td>\n",
       "      <td>2108</td>\n",
       "      <td>436.375000</td>\n",
       "      <td>15.5</td>\n",
       "      <td>0.476348</td>\n",
       "    </tr>\n",
       "    <tr>\n",
       "      <th>3</th>\n",
       "      <td>bulk</td>\n",
       "      <td>gpt-4o-mini</td>\n",
       "      <td>1</td>\n",
       "      <td>0.866667</td>\n",
       "      <td>45</td>\n",
       "      <td>40690</td>\n",
       "      <td>2160</td>\n",
       "      <td>301.407407</td>\n",
       "      <td>16.0</td>\n",
       "      <td>0.186321</td>\n",
       "    </tr>\n",
       "    <tr>\n",
       "      <th>5</th>\n",
       "      <td>bulk</td>\n",
       "      <td>gpt-4o-mini</td>\n",
       "      <td>1</td>\n",
       "      <td>0.837037</td>\n",
       "      <td>27</td>\n",
       "      <td>26699</td>\n",
       "      <td>2160</td>\n",
       "      <td>197.770370</td>\n",
       "      <td>16.0</td>\n",
       "      <td>0.165171</td>\n",
       "    </tr>\n",
       "    <tr>\n",
       "      <th>8</th>\n",
       "      <td>bulk</td>\n",
       "      <td>gpt-4o-mini</td>\n",
       "      <td>1</td>\n",
       "      <td>0.823529</td>\n",
       "      <td>17</td>\n",
       "      <td>19149</td>\n",
       "      <td>2176</td>\n",
       "      <td>140.801471</td>\n",
       "      <td>16.0</td>\n",
       "      <td>0.149402</td>\n",
       "    </tr>\n",
       "  </tbody>\n",
       "</table>\n",
       "</div>"
      ],
      "text/plain": [
       "        type   model_name  number_examples  accuracy  number_of_reqs  \\\n",
       "type_n                                                                 \n",
       "2       bulk  gpt-4o-mini                1  0.889706              68   \n",
       "3       bulk  gpt-4o-mini                1  0.866667              45   \n",
       "5       bulk  gpt-4o-mini                1  0.837037              27   \n",
       "8       bulk  gpt-4o-mini                1  0.823529              17   \n",
       "\n",
       "        total_tokens  total_completion_tokens  avg_token_per_req  \\\n",
       "type_n                                                             \n",
       "2              59347                     2108         436.375000   \n",
       "3              40690                     2160         301.407407   \n",
       "5              26699                     2160         197.770370   \n",
       "8              19149                     2176         140.801471   \n",
       "\n",
       "        avg_completion_token_per_req  avg_time_per_req  \n",
       "type_n                                                  \n",
       "2                               15.5          0.476348  \n",
       "3                               16.0          0.186321  \n",
       "5                               16.0          0.165171  \n",
       "8                               16.0          0.149402  "
      ]
     },
     "execution_count": 76,
     "metadata": {},
     "output_type": "execute_result"
    }
   ],
   "source": [
    "stats_bulk"
   ]
  },
  {
   "cell_type": "code",
   "execution_count": 62,
   "metadata": {},
   "outputs": [
    {
     "data": {
      "text/plain": [
       "<matplotlib.legend.Legend at 0x7efbf0a07580>"
      ]
     },
     "execution_count": 62,
     "metadata": {},
     "output_type": "execute_result"
    },
    {
     "data": {
      "image/png": "[encoded data removed]",
      "text/plain": [
       "<Figure size 640x480 with 1 Axes>"
      ]
     },
     "metadata": {},
     "output_type": "display_data"
    }
   ],
   "source": [
    "metrics_n_bulk = summarize_bulk[summarize_bulk[\"sensors\"] == \"All\"].set_index(\"type_n\").iloc[:, -4:]\n",
    "metrics_n_bulk.index = metrics_n_bulk.index.astype(\"str\")\n",
    "\n",
    "ax = metrics_n_bulk.plot.line(\n",
    "    yticks=[float(r/100) for r in range(80, 101, 5)],\n",
    "    linewidth=2,\n",
    "    xlabel=\"Number of Requirements\",\n",
    "    title=\"Multiple Requirements - One-Shot [Bulk]\",\n",
    ")\n",
    "\n",
    "ax.legend(loc='lower left')"
   ]
  },
  {
   "cell_type": "code",
   "execution_count": 53,
   "metadata": {},
   "outputs": [
    {
     "data": {
      "text/plain": [
       "<matplotlib.legend.Legend at 0x7efbf231f400>"
      ]
     },
     "execution_count": 53,
     "metadata": {},
     "output_type": "execute_result"
    },
    {
     "data": {
      "image/png": "[encoded data removed]",
      "text/plain": [
       "<Figure size 640x480 with 1 Axes>"
      ]
     },
     "metadata": {},
     "output_type": "display_data"
    }
   ],
   "source": [
    "metrics_n_sensor_bulk = summarize_bulk[(summarize_bulk[\"sensors\"] != \"All\") & (summarize_bulk[\"type_n\"] == 2)].set_index([\"sensors\"]).iloc[:, -4:]\n",
    "\n",
    "ax = metrics_n_sensor_bulk.plot.bar(\n",
    "    linewidth=2,\n",
    "    xlabel=\"Sensors\",\n",
    "    title=\"Two Requirements - One-Shot [Bulk]\",\n",
    "    align='edge',\n",
    ")\n",
    "\n",
    "ax.legend(loc='lower right')"
   ]
  },
  {
   "cell_type": "code",
   "execution_count": 86,
   "metadata": {},
   "outputs": [
    {
     "data": {
      "text/html": [
       "<div>\n",
       "<style scoped>\n",
       "    .dataframe tbody tr th:only-of-type {\n",
       "        vertical-align: middle;\n",
       "    }\n",
       "\n",
       "    .dataframe tbody tr th {\n",
       "        vertical-align: top;\n",
       "    }\n",
       "\n",
       "    .dataframe thead th {\n",
       "        text-align: right;\n",
       "    }\n",
       "</style>\n",
       "<table border=\"1\" class=\"dataframe\">\n",
       "  <thead>\n",
       "    <tr style=\"text-align: right;\">\n",
       "      <th></th>\n",
       "      <th>accuracy</th>\n",
       "      <th>precision</th>\n",
       "      <th>recall</th>\n",
       "      <th>f1</th>\n",
       "    </tr>\n",
       "    <tr>\n",
       "      <th>sensors</th>\n",
       "      <th></th>\n",
       "      <th></th>\n",
       "      <th></th>\n",
       "      <th></th>\n",
       "    </tr>\n",
       "  </thead>\n",
       "  <tbody>\n",
       "    <tr>\n",
       "      <th>Acc</th>\n",
       "      <td>0.96</td>\n",
       "      <td>1.0</td>\n",
       "      <td>0.96</td>\n",
       "      <td>0.98</td>\n",
       "    </tr>\n",
       "    <tr>\n",
       "      <th>Acc &amp; WSA</th>\n",
       "      <td>0.89</td>\n",
       "      <td>1.0</td>\n",
       "      <td>0.89</td>\n",
       "      <td>0.94</td>\n",
       "    </tr>\n",
       "    <tr>\n",
       "      <th>ST</th>\n",
       "      <td>0.84</td>\n",
       "      <td>1.0</td>\n",
       "      <td>0.84</td>\n",
       "      <td>0.92</td>\n",
       "    </tr>\n",
       "    <tr>\n",
       "      <th>WS</th>\n",
       "      <td>1.00</td>\n",
       "      <td>1.0</td>\n",
       "      <td>1.00</td>\n",
       "      <td>1.00</td>\n",
       "    </tr>\n",
       "    <tr>\n",
       "      <th>WSA</th>\n",
       "      <td>0.75</td>\n",
       "      <td>1.0</td>\n",
       "      <td>0.75</td>\n",
       "      <td>0.86</td>\n",
       "    </tr>\n",
       "    <tr>\n",
       "      <th>YR</th>\n",
       "      <td>0.95</td>\n",
       "      <td>1.0</td>\n",
       "      <td>0.95</td>\n",
       "      <td>0.98</td>\n",
       "    </tr>\n",
       "  </tbody>\n",
       "</table>\n",
       "</div>"
      ],
      "text/plain": [
       "           accuracy  precision  recall    f1\n",
       "sensors                                     \n",
       "Acc            0.96        1.0    0.96  0.98\n",
       "Acc & WSA      0.89        1.0    0.89  0.94\n",
       "ST             0.84        1.0    0.84  0.92\n",
       "WS             1.00        1.0    1.00  1.00\n",
       "WSA            0.75        1.0    0.75  0.86\n",
       "YR             0.95        1.0    0.95  0.98"
      ]
     },
     "execution_count": 86,
     "metadata": {},
     "output_type": "execute_result"
    }
   ],
   "source": [
    "metrics_n_sensor_bulk"
   ]
  },
  {
   "cell_type": "code",
   "execution_count": 37,
   "metadata": {},
   "outputs": [],
   "source": [
    "metrics_n_bulk_t = stats_bulk[[\"avg_token_per_req\"]].merge(metrics_n_bulk, on=\"type_n\")"
   ]
  },
  {
   "cell_type": "code",
   "execution_count": 38,
   "metadata": {},
   "outputs": [
    {
     "data": {
      "image/png": "[encoded data removed]",
      "text/plain": [
       "<Figure size 640x480 with 2 Axes>"
      ]
     },
     "metadata": {},
     "output_type": "display_data"
    }
   ],
   "source": [
    "ax = metrics_n_bulk_t.plot.line(\n",
    "    xticks=metrics_n_bulk.index,\n",
    "    # yticks=[float(r/100) for r in range(80, 101, 5)],\n",
    "    linewidth=2,\n",
    "    secondary_y=[\"avg_token_per_req\"],\n",
    "    xlabel=\"n-Shots\",\n",
    "    title=\"n-Shots Learning for all Sensors [Bulk]\",\n",
    ")"
   ]
  },
  {
   "cell_type": "code",
   "execution_count": 87,
   "metadata": {},
   "outputs": [],
   "source": [
    "result_llms = get_best_results(results_path, \"single_[!dropped]*n-1*.json\")"
   ]
  },
  {
   "cell_type": "code",
   "execution_count": 89,
   "metadata": {},
   "outputs": [],
   "source": [
    "stats_llm, summarize_llm = analyze_multiple(labels, result_llms, results_path)"
   ]
  },
  {
   "cell_type": "code",
   "execution_count": 90,
   "metadata": {},
   "outputs": [
    {
     "data": {
      "text/html": [
       "<div>\n",
       "<style scoped>\n",
       "    .dataframe tbody tr th:only-of-type {\n",
       "        vertical-align: middle;\n",
       "    }\n",
       "\n",
       "    .dataframe tbody tr th {\n",
       "        vertical-align: top;\n",
       "    }\n",
       "\n",
       "    .dataframe thead th {\n",
       "        text-align: right;\n",
       "    }\n",
       "</style>\n",
       "<table border=\"1\" class=\"dataframe\">\n",
       "  <thead>\n",
       "    <tr style=\"text-align: right;\">\n",
       "      <th></th>\n",
       "      <th>type</th>\n",
       "      <th>model_name</th>\n",
       "      <th>accuracy</th>\n",
       "      <th>number_of_reqs</th>\n",
       "      <th>total_tokens</th>\n",
       "      <th>total_completion_tokens</th>\n",
       "      <th>avg_token_per_req</th>\n",
       "      <th>avg_completion_token_per_req</th>\n",
       "      <th>avg_time_per_req</th>\n",
       "    </tr>\n",
       "    <tr>\n",
       "      <th>number_examples</th>\n",
       "      <th></th>\n",
       "      <th></th>\n",
       "      <th></th>\n",
       "      <th></th>\n",
       "      <th></th>\n",
       "      <th></th>\n",
       "      <th></th>\n",
       "      <th></th>\n",
       "      <th></th>\n",
       "    </tr>\n",
       "  </thead>\n",
       "  <tbody>\n",
       "    <tr>\n",
       "      <th>1</th>\n",
       "      <td>single</td>\n",
       "      <td>gpt-4o-mini</td>\n",
       "      <td>0.934307</td>\n",
       "      <td>137</td>\n",
       "      <td>108961</td>\n",
       "      <td>1781</td>\n",
       "      <td>795.335766</td>\n",
       "      <td>13.000000</td>\n",
       "      <td>0.931720</td>\n",
       "    </tr>\n",
       "    <tr>\n",
       "      <th>1</th>\n",
       "      <td>single</td>\n",
       "      <td>llama-3.2-11b-text-preview</td>\n",
       "      <td>0.861314</td>\n",
       "      <td>137</td>\n",
       "      <td>118098</td>\n",
       "      <td>6252</td>\n",
       "      <td>862.029197</td>\n",
       "      <td>45.635036</td>\n",
       "      <td>6.971447</td>\n",
       "    </tr>\n",
       "    <tr>\n",
       "      <th>1</th>\n",
       "      <td>single</td>\n",
       "      <td>llama-3.2-3b-preview</td>\n",
       "      <td>0.598540</td>\n",
       "      <td>137</td>\n",
       "      <td>113745</td>\n",
       "      <td>2858</td>\n",
       "      <td>830.255474</td>\n",
       "      <td>20.861314</td>\n",
       "      <td>6.699515</td>\n",
       "    </tr>\n",
       "    <tr>\n",
       "      <th>1</th>\n",
       "      <td>single</td>\n",
       "      <td>llama-3.2-90b-text-preview</td>\n",
       "      <td>0.875912</td>\n",
       "      <td>137</td>\n",
       "      <td>119194</td>\n",
       "      <td>7348</td>\n",
       "      <td>870.029197</td>\n",
       "      <td>53.635036</td>\n",
       "      <td>7.156187</td>\n",
       "    </tr>\n",
       "    <tr>\n",
       "      <th>1</th>\n",
       "      <td>single</td>\n",
       "      <td>mixtral-8x7b-32768</td>\n",
       "      <td>0.839416</td>\n",
       "      <td>137</td>\n",
       "      <td>134951</td>\n",
       "      <td>5717</td>\n",
       "      <td>985.043796</td>\n",
       "      <td>41.729927</td>\n",
       "      <td>11.391009</td>\n",
       "    </tr>\n",
       "  </tbody>\n",
       "</table>\n",
       "</div>"
      ],
      "text/plain": [
       "                   type                  model_name  accuracy  number_of_reqs  \\\n",
       "number_examples                                                                 \n",
       "1                single                 gpt-4o-mini  0.934307             137   \n",
       "1                single  llama-3.2-11b-text-preview  0.861314             137   \n",
       "1                single        llama-3.2-3b-preview  0.598540             137   \n",
       "1                single  llama-3.2-90b-text-preview  0.875912             137   \n",
       "1                single          mixtral-8x7b-32768  0.839416             137   \n",
       "\n",
       "                 total_tokens  total_completion_tokens  avg_token_per_req  \\\n",
       "number_examples                                                             \n",
       "1                      108961                     1781         795.335766   \n",
       "1                      118098                     6252         862.029197   \n",
       "1                      113745                     2858         830.255474   \n",
       "1                      119194                     7348         870.029197   \n",
       "1                      134951                     5717         985.043796   \n",
       "\n",
       "                 avg_completion_token_per_req  avg_time_per_req  \n",
       "number_examples                                                  \n",
       "1                                   13.000000          0.931720  \n",
       "1                                   45.635036          6.971447  \n",
       "1                                   20.861314          6.699515  \n",
       "1                                   53.635036          7.156187  \n",
       "1                                   41.729927         11.391009  "
      ]
     },
     "execution_count": 90,
     "metadata": {},
     "output_type": "execute_result"
    }
   ],
   "source": [
    "stats_llm"
   ]
  },
  {
   "cell_type": "code",
   "execution_count": null,
   "metadata": {},
   "outputs": [
    {
     "data": {
      "text/html": [
       "<div>\n",
       "<style scoped>\n",
       "    .dataframe tbody tr th:only-of-type {\n",
       "        vertical-align: middle;\n",
       "    }\n",
       "\n",
       "    .dataframe tbody tr th {\n",
       "        vertical-align: top;\n",
       "    }\n",
       "\n",
       "    .dataframe thead th {\n",
       "        text-align: right;\n",
       "    }\n",
       "</style>\n",
       "<table border=\"1\" class=\"dataframe\">\n",
       "  <thead>\n",
       "    <tr style=\"text-align: right;\">\n",
       "      <th></th>\n",
       "      <th>accuracy</th>\n",
       "      <th>precision</th>\n",
       "      <th>recall</th>\n",
       "      <th>f1</th>\n",
       "    </tr>\n",
       "    <tr>\n",
       "      <th>model_name</th>\n",
       "      <th></th>\n",
       "      <th></th>\n",
       "      <th></th>\n",
       "      <th></th>\n",
       "    </tr>\n",
       "  </thead>\n",
       "  <tbody>\n",
       "    <tr>\n",
       "      <th>gpt-4o-mini</th>\n",
       "      <td>0.93</td>\n",
       "      <td>0.97</td>\n",
       "      <td>0.93</td>\n",
       "      <td>0.95</td>\n",
       "    </tr>\n",
       "    <tr>\n",
       "      <th>llama-3.2-11b-text-preview</th>\n",
       "      <td>0.86</td>\n",
       "      <td>0.91</td>\n",
       "      <td>0.86</td>\n",
       "      <td>0.88</td>\n",
       "    </tr>\n",
       "    <tr>\n",
       "      <th>llama-3.2-3b-preview</th>\n",
       "      <td>0.60</td>\n",
       "      <td>0.67</td>\n",
       "      <td>0.60</td>\n",
       "      <td>0.58</td>\n",
       "    </tr>\n",
       "    <tr>\n",
       "      <th>llama-3.2-90b-text-preview</th>\n",
       "      <td>0.88</td>\n",
       "      <td>0.95</td>\n",
       "      <td>0.88</td>\n",
       "      <td>0.91</td>\n",
       "    </tr>\n",
       "    <tr>\n",
       "      <th>mixtral-8x7b-32768</th>\n",
       "      <td>0.84</td>\n",
       "      <td>0.94</td>\n",
       "      <td>0.84</td>\n",
       "      <td>0.88</td>\n",
       "    </tr>\n",
       "  </tbody>\n",
       "</table>\n",
       "</div>"
      ],
      "text/plain": [
       "                            accuracy  precision  recall    f1\n",
       "model_name                                                   \n",
       "gpt-4o-mini                     0.93       0.97    0.93  0.95\n",
       "llama-3.2-11b-text-preview      0.86       0.91    0.86  0.88\n",
       "llama-3.2-3b-preview            0.60       0.67    0.60  0.58\n",
       "llama-3.2-90b-text-preview      0.88       0.95    0.88  0.91\n",
       "mixtral-8x7b-32768              0.84       0.94    0.84  0.88"
      ]
     },
     "execution_count": 102,
     "metadata": {},
     "output_type": "execute_result"
    }
   ],
   "source": [
    "metrics_n_llm = summarize_llm[summarize_llm[\"sensors\"] == \"All\"].set_index(\"model_name\").iloc[:, -4:]\n",
    "metrics_n_llm.index = metrics_n_llm.index.astype(\"str\")\n",
    "\n",
    "metrics_n_llm"
   ]
  },
  {
   "cell_type": "code",
   "execution_count": 104,
   "metadata": {},
   "outputs": [
    {
     "data": {
      "text/html": [
       "<div>\n",
       "<style scoped>\n",
       "    .dataframe tbody tr th:only-of-type {\n",
       "        vertical-align: middle;\n",
       "    }\n",
       "\n",
       "    .dataframe tbody tr th {\n",
       "        vertical-align: top;\n",
       "    }\n",
       "\n",
       "    .dataframe thead th {\n",
       "        text-align: right;\n",
       "    }\n",
       "</style>\n",
       "<table border=\"1\" class=\"dataframe\">\n",
       "  <thead>\n",
       "    <tr style=\"text-align: right;\">\n",
       "      <th></th>\n",
       "      <th>accuracy</th>\n",
       "      <th>precision</th>\n",
       "      <th>recall</th>\n",
       "      <th>f1</th>\n",
       "    </tr>\n",
       "    <tr>\n",
       "      <th>sensors</th>\n",
       "      <th></th>\n",
       "      <th></th>\n",
       "      <th></th>\n",
       "      <th></th>\n",
       "    </tr>\n",
       "  </thead>\n",
       "  <tbody>\n",
       "    <tr>\n",
       "      <th>Acc</th>\n",
       "      <td>0.92</td>\n",
       "      <td>1.0</td>\n",
       "      <td>0.92</td>\n",
       "      <td>0.96</td>\n",
       "    </tr>\n",
       "    <tr>\n",
       "      <th>Acc &amp; WSA</th>\n",
       "      <td>0.72</td>\n",
       "      <td>1.0</td>\n",
       "      <td>0.72</td>\n",
       "      <td>0.84</td>\n",
       "    </tr>\n",
       "    <tr>\n",
       "      <th>ST</th>\n",
       "      <td>0.91</td>\n",
       "      <td>1.0</td>\n",
       "      <td>0.91</td>\n",
       "      <td>0.95</td>\n",
       "    </tr>\n",
       "    <tr>\n",
       "      <th>WS</th>\n",
       "      <td>1.00</td>\n",
       "      <td>1.0</td>\n",
       "      <td>1.00</td>\n",
       "      <td>1.00</td>\n",
       "    </tr>\n",
       "    <tr>\n",
       "      <th>WSA</th>\n",
       "      <td>0.83</td>\n",
       "      <td>1.0</td>\n",
       "      <td>0.83</td>\n",
       "      <td>0.91</td>\n",
       "    </tr>\n",
       "    <tr>\n",
       "      <th>YR</th>\n",
       "      <td>0.76</td>\n",
       "      <td>1.0</td>\n",
       "      <td>0.76</td>\n",
       "      <td>0.86</td>\n",
       "    </tr>\n",
       "  </tbody>\n",
       "</table>\n",
       "</div>"
      ],
      "text/plain": [
       "           accuracy  precision  recall    f1\n",
       "sensors                                     \n",
       "Acc            0.92        1.0    0.92  0.96\n",
       "Acc & WSA      0.72        1.0    0.72  0.84\n",
       "ST             0.91        1.0    0.91  0.95\n",
       "WS             1.00        1.0    1.00  1.00\n",
       "WSA            0.83        1.0    0.83  0.91\n",
       "YR             0.76        1.0    0.76  0.86"
      ]
     },
     "execution_count": 104,
     "metadata": {},
     "output_type": "execute_result"
    }
   ],
   "source": [
    "metrics_n_sensor_llm = summarize_llm[(summarize_llm[\"sensors\"] != \"All\") & (summarize_llm[\"model_name\"] == \"llama-3.2-11b-text-preview\")].set_index([\"sensors\"]).iloc[:, -4:]\n",
    "\n",
    "metrics_n_sensor_llm"
   ]
  },
  {
   "cell_type": "code",
   "execution_count": 105,
   "metadata": {},
   "outputs": [
    {
     "data": {
      "text/html": [
       "<div>\n",
       "<style scoped>\n",
       "    .dataframe tbody tr th:only-of-type {\n",
       "        vertical-align: middle;\n",
       "    }\n",
       "\n",
       "    .dataframe tbody tr th {\n",
       "        vertical-align: top;\n",
       "    }\n",
       "\n",
       "    .dataframe thead th {\n",
       "        text-align: right;\n",
       "    }\n",
       "</style>\n",
       "<table border=\"1\" class=\"dataframe\">\n",
       "  <thead>\n",
       "    <tr style=\"text-align: right;\">\n",
       "      <th></th>\n",
       "      <th>accuracy</th>\n",
       "      <th>precision</th>\n",
       "      <th>recall</th>\n",
       "      <th>f1</th>\n",
       "    </tr>\n",
       "    <tr>\n",
       "      <th>sensors</th>\n",
       "      <th></th>\n",
       "      <th></th>\n",
       "      <th></th>\n",
       "      <th></th>\n",
       "    </tr>\n",
       "  </thead>\n",
       "  <tbody>\n",
       "    <tr>\n",
       "      <th>Acc</th>\n",
       "      <td>0.96</td>\n",
       "      <td>1.0</td>\n",
       "      <td>0.96</td>\n",
       "      <td>0.98</td>\n",
       "    </tr>\n",
       "    <tr>\n",
       "      <th>Acc &amp; WSA</th>\n",
       "      <td>0.94</td>\n",
       "      <td>1.0</td>\n",
       "      <td>0.94</td>\n",
       "      <td>0.97</td>\n",
       "    </tr>\n",
       "    <tr>\n",
       "      <th>ST</th>\n",
       "      <td>0.84</td>\n",
       "      <td>1.0</td>\n",
       "      <td>0.84</td>\n",
       "      <td>0.92</td>\n",
       "    </tr>\n",
       "    <tr>\n",
       "      <th>WS</th>\n",
       "      <td>1.00</td>\n",
       "      <td>1.0</td>\n",
       "      <td>1.00</td>\n",
       "      <td>1.00</td>\n",
       "    </tr>\n",
       "    <tr>\n",
       "      <th>WSA</th>\n",
       "      <td>0.67</td>\n",
       "      <td>1.0</td>\n",
       "      <td>0.67</td>\n",
       "      <td>0.80</td>\n",
       "    </tr>\n",
       "    <tr>\n",
       "      <th>YR</th>\n",
       "      <td>0.90</td>\n",
       "      <td>1.0</td>\n",
       "      <td>0.90</td>\n",
       "      <td>0.95</td>\n",
       "    </tr>\n",
       "  </tbody>\n",
       "</table>\n",
       "</div>"
      ],
      "text/plain": [
       "           accuracy  precision  recall    f1\n",
       "sensors                                     \n",
       "Acc            0.96        1.0    0.96  0.98\n",
       "Acc & WSA      0.94        1.0    0.94  0.97\n",
       "ST             0.84        1.0    0.84  0.92\n",
       "WS             1.00        1.0    1.00  1.00\n",
       "WSA            0.67        1.0    0.67  0.80\n",
       "YR             0.90        1.0    0.90  0.95"
      ]
     },
     "execution_count": 105,
     "metadata": {},
     "output_type": "execute_result"
    }
   ],
   "source": [
    "metrics_n_sensor_llm = summarize_llm[(summarize_llm[\"sensors\"] != \"All\") & (summarize_llm[\"model_name\"] == \"llama-3.2-90b-text-preview\")].set_index([\"sensors\"]).iloc[:, -4:]\n",
    "\n",
    "metrics_n_sensor_llm"
   ]
  },
  {
   "cell_type": "code",
   "execution_count": null,
   "metadata": {},
   "outputs": [],
   "source": []
  },
  {
   "cell_type": "code",
   "execution_count": null,
   "metadata": {},
   "outputs": [],
   "source": []
  }
 ],
 "metadata": {
  "kernelspec": {
   "display_name": "hil",
   "language": "python",
   "name": "python3"
  },
  "language_info": {
   "codemirror_mode": {
    "name": "ipython",
    "version": 3
   },
   "file_extension": ".py",
   "mimetype": "text/x-python",
   "name": "python",
   "nbconvert_exporter": "python",
   "pygments_lexer": "ipython3",
   "version": "3.9.0"
  }
 },
 "nbformat": 4,
 "nbformat_minor": 2
}
