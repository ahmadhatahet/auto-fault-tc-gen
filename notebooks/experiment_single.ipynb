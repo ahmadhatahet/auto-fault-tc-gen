{
 "cells": [
  {
   "cell_type": "markdown",
   "metadata": {},
   "source": [
    "### Build testgen Python Package"
   ]
  },
  {
   "cell_type": "code",
   "execution_count": null,
   "metadata": {},
   "outputs": [],
   "source": [
    "# !pip -q install -e ../."
   ]
  },
  {
   "cell_type": "markdown",
   "metadata": {},
   "source": [
    "### Imports"
   ]
  },
  {
   "cell_type": "code",
   "execution_count": 1,
   "metadata": {},
   "outputs": [],
   "source": [
    "import pandas as pd\n",
    "import json\n",
    "import os\n",
    "from tqdm.notebook import tqdm\n",
    "from testgen.utils import *\n",
    "from pathlib import Path\n",
    "from datetime import datetime as dt\n",
    "from dotenv import load_dotenv"
   ]
  },
  {
   "cell_type": "markdown",
   "metadata": {},
   "source": [
    "### EDA"
   ]
  },
  {
   "cell_type": "code",
   "execution_count": 2,
   "metadata": {},
   "outputs": [
    {
     "data": {
      "text/plain": [
       "True"
      ]
     },
     "execution_count": 2,
     "metadata": {},
     "output_type": "execute_result"
    }
   ],
   "source": [
    "base_path = Path().cwd().parent\n",
    "load_dotenv()"
   ]
  },
  {
   "cell_type": "code",
   "execution_count": 44,
   "metadata": {},
   "outputs": [],
   "source": [
    "# read data and rename columns\n",
    "df = pd.read_excel(base_path / \"data/requirements.xlsx\")\n",
    "df_examples = pd.read_excel(base_path / \"data/examples.xlsx\")"
   ]
  },
  {
   "cell_type": "code",
   "execution_count": 45,
   "metadata": {},
   "outputs": [],
   "source": [
    "# Rename columns with uppercase first letters of each word\n",
    "df.columns = [''.join(word[0].capitalize() for word in col.split('_')) for col in df.columns]"
   ]
  },
  {
   "cell_type": "code",
   "execution_count": 4,
   "metadata": {},
   "outputs": [],
   "source": [
    "# make sure all columns except the first one are binary\n",
    "for c in df.columns[1:]:\n",
    "    assert df[c].drop_duplicates().shape[0] == 2"
   ]
  },
  {
   "cell_type": "markdown",
   "metadata": {},
   "source": [
    "# Find Examples"
   ]
  },
  {
   "cell_type": "code",
   "execution_count": null,
   "metadata": {},
   "outputs": [],
   "source": [
    "N_EXAMPLES = 1\n",
    "\n",
    "\n",
    "if N_EXAMPLES > 1:\n",
    "    indexes_to_drop, examples = get_examples_from_df(df_examples.drop(columns=[\"selected\"]), N_EXAMPLES)\n",
    "\n",
    "\n",
    "if N_EXAMPLES == 1: # pick pre selected example when N_EXAMPLES = 1\n",
    "    df_examples_n1 = df_examples[df_examples[\"selected\"] == 1].copy()\n",
    "    df_examples_n1.drop(columns=[\"selected\"], inplace=True)\n",
    "    indexes_to_drop, examples = get_examples_from_df(df_examples_n1, 1)"
   ]
  },
  {
   "cell_type": "code",
   "execution_count": 60,
   "metadata": {},
   "outputs": [],
   "source": [
    "# join all examples in a text format to add to prompt\n",
    "examples_txt = \"\"\n",
    "\n",
    "for e1 in examples.values():\n",
    "    for e2 in e1:\n",
    "        examples_txt += f\"Requirement: {e2[0]}\\n\"\n",
    "        examples_txt += f\"Vector: {e2[1]}\\n\"\n",
    "        examples_txt += f\"Target Sensor/s: {' and '.join(df.columns[1:][[True if x == 1 else False for x in map(int, e2[1][1:-1].split(','))]])}\\n\"\n",
    "        examples_txt += \"\\n\""
   ]
  },
  {
   "cell_type": "code",
   "execution_count": 61,
   "metadata": {},
   "outputs": [
    {
     "name": "stdout",
     "output_type": "stream",
     "text": [
      "Requirement: The power steering system must adapt the torque levels in response to detected road surface conditions (e.g., ice, water, gravel)\n",
      "Vector: [0,0,0,0,1]\n",
      "Target Sensor/s: steering_torque\n",
      "\n",
      "Requirement: The control system must detect and mitigate power oversteer to maintain vehicle control by adjusting the wheel steering angle and acceleration pedal inputs\n",
      "Vector: [1,1,0,0,0]\n",
      "Target Sensor/s: acceleration_pedal and wheel_steering_angle\n",
      "\n",
      "\n"
     ]
    }
   ],
   "source": [
    "print(\"\\n\".join(examples_txt.split(\"\\n\")[-9:]))"
   ]
  },
  {
   "cell_type": "markdown",
   "metadata": {},
   "source": [
    "# LLM"
   ]
  },
  {
   "cell_type": "code",
   "execution_count": 62,
   "metadata": {},
   "outputs": [],
   "source": [
    "from testgen.prompts import SystemPrompt\n",
    "from testgen.prompts import Sensors\n",
    "from testgen.prompts import UserPrompt"
   ]
  },
  {
   "cell_type": "code",
   "execution_count": null,
   "metadata": {},
   "outputs": [],
   "source": [
    "llm_models = {\n",
    "    \"azure\": [os.getenv(\"AZURE_DEPLOYMENT_NAME\")],\n",
    "    \"groq\": [\n",
    "        \"llama-3.2-3b-preview\",\n",
    "        \"llama-3.2-90b-text-preview\",\n",
    "        \"mixtral-8x7b-32768\",\n",
    "        \"llama-3.2-11b-text-preview\"\n",
    "    ],\n",
    "}\n",
    "\n",
    "endpoint_attrs = {\n",
    "    \"azure\": {\n",
    "        \"api_key\": os.getenv(\"AZURE_OPENAI_API_KEY\"),\n",
    "        \"api_version\": os.getenv(\"AZURE_API_VERSION\"),\n",
    "        \"azure_endpoint\": os.getenv(\"AZURE_OPENAI_ENDPOINT\"),\n",
    "    },\n",
    "    \"groq\": {\n",
    "        \"api_key\": os.getenv(\"GROQ_API_KEY\"),\n",
    "    },\n",
    "}"
   ]
  },
  {
   "cell_type": "code",
   "execution_count": 64,
   "metadata": {},
   "outputs": [],
   "source": [
    "endpoint_name = \"groq\"\n",
    "model_name = llm_models[endpoint_name][3]\n",
    "\n",
    "client = llm_client(endpoint_name, **endpoint_attrs[endpoint_name])"
   ]
  },
  {
   "cell_type": "code",
   "execution_count": 65,
   "metadata": {},
   "outputs": [],
   "source": [
    "# t = client.chat.completions.create(\n",
    "#     model=model_name,\n",
    "#     messages=[{\"role\": \"user\", \"content\": \"Respond: Here\"}]\n",
    "# )\n",
    "# t.choices[0].message.content"
   ]
  },
  {
   "cell_type": "markdown",
   "metadata": {},
   "source": [
    "# Run for all Requirements"
   ]
  },
  {
   "cell_type": "code",
   "execution_count": 66,
   "metadata": {},
   "outputs": [
    {
     "data": {
      "application/vnd.jupyter.widget-view+json": {
       "model_id": "3a4bf0ec03b146c2ba9ec38d69f9db81",
       "version_major": 2,
       "version_minor": 0
      },
      "text/plain": [
       "0it [00:00, ?it/s]"
      ]
     },
     "metadata": {},
     "output_type": "display_data"
    }
   ],
   "source": [
    "results = []\n",
    "responses = []\n",
    "\n",
    "for instance in tqdm(df.iterrows()):\n",
    "    result, response = client_invoke(\n",
    "        client,\n",
    "        model_name,\n",
    "        SystemPrompt,\n",
    "        Sensors,\n",
    "        examples_txt,\n",
    "        UserPrompt,\n",
    "        instance,\n",
    "    )\n",
    "\n",
    "    results.append(result)\n",
    "    responses.append(response)"
   ]
  },
  {
   "cell_type": "code",
   "execution_count": 67,
   "metadata": {},
   "outputs": [],
   "source": [
    "accuracy = 0\n",
    "total_tokens = 0\n",
    "total_completion_tokens = 0\n",
    "total_time = 0\n",
    "\n",
    "for r in results:\n",
    "    accuracy += r[\"accuracy\"]\n",
    "    total_tokens += r[\"total_tokens\"]\n",
    "    total_completion_tokens += r[\"completion_tokens\"]\n",
    "    total_time += r['response_time']\n",
    "\n",
    "number_of_reqs = len(results)\n",
    "accuracy /= len(results)\n",
    "avg_time_per_req = round(total_time / len(results), 6)\n",
    "avg_token_per_req = total_tokens / len(results)\n",
    "avg_completion_token_per_req = total_completion_tokens / len(results)"
   ]
  },
  {
   "cell_type": "code",
   "execution_count": 68,
   "metadata": {},
   "outputs": [],
   "source": [
    "# save results\n",
    "time = dt.now()\n",
    "\n",
    "results_path = \"results/single_{model}_n-{examples}_acc-{accuracy}_{time}.json\"\n",
    "results_path = results_path.format(\n",
    "    model=model_name,\n",
    "    examples=N_EXAMPLES,\n",
    "    time=time.strftime('%m.%d.%Y-%H:%M:%S'),\n",
    "    accuracy=round(accuracy, 3)\n",
    ")\n",
    "\n",
    "results_file = base_path / results_path\n",
    "results_file.parent.mkdir(exist_ok=True)\n",
    "results_file.touch()\n",
    "\n",
    "with results_file.open(\"w\") as f:\n",
    "    json.dump({\"accuracy\": accuracy,\n",
    "        \"number_of_reqs\": number_of_reqs,\n",
    "        \"total_tokens\": total_tokens,\n",
    "        \"total_completion_tokens\": total_completion_tokens,\n",
    "        \"avg_token_per_req\": avg_token_per_req,\n",
    "        \"avg_completion_token_per_req\": avg_completion_token_per_req,\n",
    "        \"avg_time_per_req\": avg_time_per_req,\n",
    "        \"examples\": examples,\n",
    "        \"responses\": results}, f, indent=4)"
   ]
  },
  {
   "cell_type": "code",
   "execution_count": null,
   "metadata": {},
   "outputs": [],
   "source": []
  },
  {
   "cell_type": "code",
   "execution_count": null,
   "metadata": {},
   "outputs": [],
   "source": []
  },
  {
   "cell_type": "code",
   "execution_count": null,
   "metadata": {},
   "outputs": [],
   "source": []
  }
 ],
 "metadata": {
  "kernelspec": {
   "display_name": "hil",
   "language": "python",
   "name": "python3"
  },
  "language_info": {
   "codemirror_mode": {
    "name": "ipython",
    "version": 3
   },
   "file_extension": ".py",
   "mimetype": "text/x-python",
   "name": "python",
   "nbconvert_exporter": "python",
   "pygments_lexer": "ipython3",
   "version": "3.9.0"
  }
 },
 "nbformat": 4,
 "nbformat_minor": 2
}
